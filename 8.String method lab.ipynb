{
 "cells": [
  {
   "cell_type": "code",
   "execution_count": 1,
   "id": "3f9aec8e",
   "metadata": {},
   "outputs": [
    {
     "name": "stdout",
     "output_type": "stream",
     "text": [
      "Chars = 8 Digits = 3 Symbol = 4\n"
     ]
    }
   ],
   "source": [
    "#Q1. Write a Python program to Count all letters, digits, and special\n",
    "#   symbols from the given string.?\n",
    "\n",
    "# input_str = \"P@#yn26at^&i5ve\"\n",
    "# Output: Chars = 8 Digits = 3 Symbol = 4\n",
    "# to check alphabets --> isalpha()\n",
    "# to check digits --> isdigits()\n",
    "# special symbols --> else\n",
    "\n",
    "#..Define the input string..#\n",
    "input_str = \"P@#yn26at^&i5ve\"\n",
    "\n",
    "#..Initialize counters..#\n",
    "alpha = 0\n",
    "digits = 0\n",
    "symbols = 0\n",
    "\n",
    "#..Loop through each character in the string..#\n",
    "for char in input_str:\n",
    "    if char.isalpha():\n",
    "        alpha += 1\n",
    "    elif char.isdigit():\n",
    "        digits += 1\n",
    "    else:\n",
    "        symbols += 1\n",
    "\n",
    "#..Print the counts..#\n",
    "print(f'Chars = {alpha} Digits = {digits} Symbol = {symbols}')\n"
   ]
  },
  {
   "cell_type": "code",
   "execution_count": 2,
   "id": "a5156f2c",
   "metadata": {},
   "outputs": [
    {
     "data": {
      "text/plain": [
       "'String and function python '"
      ]
     },
     "execution_count": 2,
     "metadata": {},
     "output_type": "execute_result"
    }
   ],
   "source": [
    "#Q2. Write a Python program to remove duplicate words of a given string.?\n",
    "# Output: String and Function python\n",
    "\n",
    "#..Define the input string..#\n",
    "input_str = \"String and String function and function python\"\n",
    "\n",
    "#..Initialize an empty string to store unique words..#\n",
    "new_str = ''\n",
    "\n",
    "#..Loop through each word in the string..#\n",
    "for word in input_str.split():\n",
    "    if word not in new_str:\n",
    "        new_str += word + ' '\n",
    "\n",
    "#..Print the final string with unique words..#\n",
    "print(new_str.strip())"
   ]
  },
  {
   "cell_type": "code",
   "execution_count": 3,
   "id": "3faf9e28",
   "metadata": {},
   "outputs": [
    {
     "name": "stdout",
     "output_type": "stream",
     "text": [
      "upper_cnt = 5\n",
      "lower_cnt = 18\n",
      "digit_cnt = 5\n",
      "symbol_cnt = 11\n"
     ]
    }
   ],
   "source": [
    "#Q3. Write a Python program to count Uppercase, Lowercase, special\n",
    "#character and numeric values in a given string.?\n",
    "\n",
    "# Output:\n",
    "# UpperCase : 5  <-- isupper()\n",
    "# LowerCase : 18  <-- islower()\n",
    "# Numbers : 5     <-- isdigit()\n",
    "# Special : 11    <-- else\n",
    "\n",
    "#..Define the input string..#\n",
    "input_str = \"Hell0 W0rld ! 123 * # welcome to pYtHoN\"\n",
    "\n",
    "#..Initialize counters..#\n",
    "upper_cnt = 0\n",
    "lower_cnt = 0\n",
    "digit_cnt = 0\n",
    "symbol_cnt = 0\n",
    "\n",
    "#..Loop through each character in the string..#\n",
    "for char in input_str:\n",
    "    if char.isupper():\n",
    "        upper_cnt += 1\n",
    "    elif char.islower():\n",
    "        lower_cnt += 1\n",
    "    elif char.isdigit():\n",
    "        digit_cnt += 1\n",
    "    else:\n",
    "        symbol_cnt += 1\n",
    "\n",
    "#..Print the counts..#\n",
    "print(f'upper_cnt = {upper_cnt}\\nlower_cnt = {lower_cnt}\\ndigit_cnt = {digit_cnt}\\nsymbol_cnt = {symbol_cnt}')"
   ]
  },
  {
   "cell_type": "code",
   "execution_count": 4,
   "id": "09f53450",
   "metadata": {},
   "outputs": [
    {
     "name": "stdout",
     "output_type": "stream",
     "text": [
      "Total vowels are: 8\n"
     ]
    }
   ],
   "source": [
    "#4. Write a Python Count vowels in a string \n",
    "#input= “Welcome to Python Assignment” \n",
    "#Output: Total vowels are: 8\n",
    "\n",
    "#..Define the input string..#\n",
    "input_string = \"Welcome to Python Assignment\"\n",
    "\n",
    "#..Define vowels (both uppercase and lowercase)..#\n",
    "vowels = \"aeiouAEIOU\"\n",
    "\n",
    "#..Initialize vowel count..#\n",
    "vowel_count = 0\n",
    "\n",
    "#..Loop through each character in the string..#\n",
    "for char in input_string:\n",
    "    if char in vowels:\n",
    "        vowel_count += 1\n",
    "\n",
    "#..Print the total vowel count..#\n",
    "print(f\"Total vowels are: {vowel_count}\")\n"
   ]
  }
 ],
 "metadata": {
  "kernelspec": {
   "display_name": "Python [conda env:base] *",
   "language": "python",
   "name": "conda-base-py"
  },
  "language_info": {
   "codemirror_mode": {
    "name": "ipython",
    "version": 3
   },
   "file_extension": ".py",
   "mimetype": "text/x-python",
   "name": "python",
   "nbconvert_exporter": "python",
   "pygments_lexer": "ipython3",
   "version": "3.10.16"
  }
 },
 "nbformat": 4,
 "nbformat_minor": 5
}
