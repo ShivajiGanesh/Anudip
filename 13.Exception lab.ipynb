{
 "cells": [
  {
   "cell_type": "code",
   "execution_count": 4,
   "id": "04abb7f6",
   "metadata": {},
   "outputs": [
    {
     "name": "stdout",
     "output_type": "stream",
     "text": [
      "Enter Number: 6\n",
      "Division by zero is not posible\n"
     ]
    }
   ],
   "source": [
    "#Q1. Write a Python program to handle a ZeroDivisionError exception when dividing a number by zero.\n",
    "\n",
    "try:\n",
    "    # Promts to takes user input\n",
    "    a = float(input(\"Enter Number: \"))\n",
    "    \n",
    "    # Gives zero division error   \n",
    "    result = a/0 \n",
    "    \n",
    "    # We use exception block to do not mention, error in excecution\n",
    "except ZeroDivisionError:\n",
    "    print(\"Division by zero is not posible\")\n",
    "else:  \n",
    "    print(result)"
   ]
  },
  {
   "cell_type": "code",
   "execution_count": 17,
   "id": "cd885426",
   "metadata": {},
   "outputs": [
    {
     "name": "stdout",
     "output_type": "stream",
     "text": [
      "Enter a number: 0.0\n",
      "Not an integer!\n",
      "Execution completed.\n"
     ]
    }
   ],
   "source": [
    "#Q2. Write a Python program that prompts the user to input an integer and raises a ValueError exception\n",
    "#if the input is not a valid integer\n",
    "\n",
    "#solution 1:\n",
    "try:\n",
    "    # Promts to takes user input\n",
    "    num = int(input(\"Enter a number: \"))\n",
    "    print(\"Valid integer:\", num)\n",
    "    \n",
    "    # We use exception block to do not mention,the error in excecution\n",
    "except ValueError:\n",
    "    print(\"Not an integer!\")\n",
    "finally:\n",
    "    print(\"Execution completed.\")"
   ]
  },
  {
   "cell_type": "code",
   "execution_count": 18,
   "id": "a1bb203c",
   "metadata": {},
   "outputs": [
    {
     "name": "stdout",
     "output_type": "stream",
     "text": [
      "Enter an integer: 0.0000\n",
      "Invalid input! Please enter a valid integer.\n"
     ]
    }
   ],
   "source": [
    "#solution 2:\n",
    "try:\n",
    "    # Promts to takes user input\n",
    "    user_input = input(\"Enter an integer: \")\n",
    "    \n",
    "    # Allows only numbers\n",
    "    if not user_input.isdigit():\n",
    "        raise ValueError(\"Invalid input! Please enter a valid integer.\")\n",
    "        \n",
    "    # Convert to integer only if valid    \n",
    "    num = int(user_input)\n",
    "    print(\"You entered a valid integer:\", num)\n",
    "except ValueError as e:\n",
    "    print(e)"
   ]
  },
  {
   "cell_type": "code",
   "execution_count": 31,
   "id": "ae706144",
   "metadata": {},
   "outputs": [
    {
     "name": "stdout",
     "output_type": "stream",
     "text": [
      "Error: The file 'example.txt' was not found.\n"
     ]
    }
   ],
   "source": [
    "#Q3. Write a Python program that opens a file and handles a FileNotFoundError exception if the file does not exist.\n",
    "try:\n",
    "    # Searching and opening for file\n",
    "    filename = \"example.txt\"  \n",
    "    with open(filename, \"r\") as file:\n",
    "        \n",
    "    # Opens and read the file and prints content inside of it    \n",
    "        content = file.read()\n",
    "        print(\"File Content:\\n\", content)\n",
    "        \n",
    "    # As there is no file exists in location give error, converts to exception    \n",
    "except FileNotFoundError:\n",
    "    print(f\"Error: The file '{filename}' was not found.\")"
   ]
  },
  {
   "cell_type": "code",
   "execution_count": 34,
   "id": "c26ef2f0",
   "metadata": {},
   "outputs": [
    {
     "name": "stdout",
     "output_type": "stream",
     "text": [
      "Enter the first number: 0.0\n",
      "Enter the second number: 2\n",
      "Both inputs are valid numerical values.\n"
     ]
    }
   ],
   "source": [
    "#Q4. Write a Python program that prompts the user to input two numbers and raises a TypeError exception \n",
    "#if the inputs are not numerical\n",
    "\n",
    "try:\n",
    "    # Promts to takes user input\n",
    "    num1 = input(\"Enter the first number: \")\n",
    "    num2 = input(\"Enter the second number: \")\n",
    "    \n",
    "    # Check if both inputs are valid numbers (integer or float)\n",
    "    # Attempt to convert both inputs to float\n",
    "    float(num1)\n",
    "    float(num2) \n",
    "    \n",
    "    print(\"Both inputs are valid numerical values.\")\n",
    "    # here it goes for exception handling\n",
    "except TypeError:\n",
    "    print(\"Error: Both inputs must be valid numerical values (integers or floats).\")"
   ]
  }
 ],
 "metadata": {
  "kernelspec": {
   "display_name": "Python 3 (ipykernel)",
   "language": "python",
   "name": "python3"
  },
  "language_info": {
   "codemirror_mode": {
    "name": "ipython",
    "version": 3
   },
   "file_extension": ".py",
   "mimetype": "text/x-python",
   "name": "python",
   "nbconvert_exporter": "python",
   "pygments_lexer": "ipython3",
   "version": "3.10.9"
  }
 },
 "nbformat": 4,
 "nbformat_minor": 5
}
