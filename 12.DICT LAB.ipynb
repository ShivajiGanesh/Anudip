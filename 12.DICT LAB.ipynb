{
 "cells": [
  {
   "cell_type": "code",
   "execution_count": 1,
   "id": "b5380ee5",
   "metadata": {},
   "outputs": [
    {
     "name": "stdout",
     "output_type": "stream",
     "text": [
      "6.2\n"
     ]
    }
   ],
   "source": [
    "#1. Write a Python program and calculate the mean of the below dictionary.\n",
    "#test_dict={\"A\": 6, \"B\": 9, \"C\": 5, \"D\": 7, \"E\":4} Output: 6.2 \n",
    "\n",
    "#..Define a dictionary with key-value pairs..#\n",
    "test_dict = {\"A\": 6, \"B\": 9, \"C\": 5, \"D\": 7, \"E\": 4}\n",
    "\n",
    "#..Compute the mean of the values..#\n",
    "mean_value = sum(test_dict.values()) / len(test_dict)\n",
    "\n",
    "#..Display the mean value..#\n",
    "print(mean_value)"
   ]
  },
  {
   "cell_type": "code",
   "execution_count": 2,
   "id": "69e9cf22",
   "metadata": {},
   "outputs": [
    {
     "name": "stdout",
     "output_type": "stream",
     "text": [
      "{1: 10, 2: 20, 3: 30, 4: 40, 5: 50, 6: 60}\n"
     ]
    }
   ],
   "source": [
    "# 2. Write a Python script to concatenate the following dictionaries to create a new one.\n",
    "# Sample Dictionary:dic1=(1:10, 2:20)} dic2=(3:30, 4:40) dic3=(5:50,6:60)\n",
    "# Expected Result: (1: 10, 2: 20, 3: 30, 4: 40, 5: 50, 6: 60)\n",
    "\n",
    "#..Define dictionaries..#\n",
    "dic1 = {1: 10, 2: 20}\n",
    "dic2 = {3: 30, 4: 40}\n",
    "dic3 = {5: 50, 6: 60}\n",
    "\n",
    "#..Merge all dictionaries into one..#\n",
    "result = dic1 | dic2 | dic3\n",
    "\n",
    "#..Display the merged dictionary..#\n",
    "print(result)"
   ]
  },
  {
   "cell_type": "code",
   "execution_count": 7,
   "id": "c30e955d",
   "metadata": {},
   "outputs": [
    {
     "name": "stdout",
     "output_type": "stream",
     "text": [
      "Keys: dict_keys([1, 2, 3, 4, 5, 6])\n",
      "Values: dict_values([10, 20, 30, 40, 50, 60])\n",
      "Items: dict_items([(1, 10), (2, 20), (3, 30), (4, 40), (5, 50), (6, 60)])\n"
     ]
    }
   ],
   "source": [
    "# 3. Write a Python program to get the key, value and item in a dictionary.\n",
    "# input:dict_num = (1: 10, 2: 20, 3: 30, 4: 40, 5: 50, 6: 60) Output: key 1 2 3 4 56 6 value 10 20 30 40 50 60\n",
    "\n",
    "#..Define a dictionary with numerical keys and values..#\n",
    "dict_num = {1: 10, 2: 20, 3: 30, 4: 40, 5: 50, 6: 60}\n",
    "\n",
    "#..Display dictionary keys..#\n",
    "print(\"Keys:\", dict_num.keys())\n",
    "\n",
    "#..Display dictionary values..#\n",
    "print(\"Values:\", dict_num.values())\n",
    "\n",
    "#..Display dictionary key-value pairs..#\n",
    "print(\"Items:\", dict_num.items())\n"
   ]
  },
  {
   "cell_type": "code",
   "execution_count": 1,
   "id": "949f2317",
   "metadata": {},
   "outputs": [
    {
     "name": "stdout",
     "output_type": "stream",
     "text": [
      "Dictionary with Empty Items Dropped: {1: 10, 2: 20, 4: 40, 6: 60}\n"
     ]
    }
   ],
   "source": [
    "#4.  Write a Python program to get the key, value and item in a dictionary.\n",
    "#Input: input dict (1: 10, 2: 20, 3:None, 4: 40, 5: None, 6: 60)\n",
    "#Output:\n",
    "#Dictionary with Empty Items Dropped: (1: 10, 2: 20, 4: 40, 6: 60)\n",
    "\n",
    "#..Define a dictionary with some None values..#\n",
    "input_dict = {1: 10, 2: 20, 3: None, 4: 40, 5: None, 6: 60}\n",
    "\n",
    "#..Filter out key-value pairs where value is None..#\n",
    "filtered_dict = {key: value for key, value in input_dict.items() if value is not None}\n",
    "\n",
    "#..Display the cleaned dictionary..#\n",
    "print(\"Dictionary with Empty Items Dropped:\", filtered_dict)"
   ]
  }
 ],
 "metadata": {
  "kernelspec": {
   "display_name": "Python [conda env:base] *",
   "language": "python",
   "name": "conda-base-py"
  },
  "language_info": {
   "codemirror_mode": {
    "name": "ipython",
    "version": 3
   },
   "file_extension": ".py",
   "mimetype": "text/x-python",
   "name": "python",
   "nbconvert_exporter": "python",
   "pygments_lexer": "ipython3",
   "version": "3.10.16"
  }
 },
 "nbformat": 4,
 "nbformat_minor": 5
}
