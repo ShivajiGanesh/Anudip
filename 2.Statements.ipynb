{
 "cells": [
  {
   "cell_type": "code",
   "execution_count": 3,
   "id": "bc456073-eef2-4ed0-8bac-42141115b971",
   "metadata": {},
   "outputs": [
    {
     "name": "stdin",
     "output_type": "stream",
     "text": [
      "Enter number: 4\n"
     ]
    },
    {
     "name": "stdout",
     "output_type": "stream",
     "text": [
      "4 is even number\n"
     ]
    }
   ],
   "source": [
    "#1Q. Using input() function take one number from the user and using ternary operators check whether the number is even or odd \n",
    "\n",
    "#..Decalring variable and taking input from user..#\n",
    "a =  int(input(\"Enter number:\"))\n",
    "\n",
    "#..Using if condition to check number is even or odd..#\n",
    "if  a % 2 == 0:\n",
    "    print(f\"{a} is even number\")\n",
    "else:\n",
    "    print(f\"{a} is odd number\")\n"
   ]
  },
  {
   "cell_type": "code",
   "execution_count": 1,
   "id": "78ab5a24-7ef8-4048-b90a-0f77324befb8",
   "metadata": {},
   "outputs": [
    {
     "name": "stdin",
     "output_type": "stream",
     "text": [
      "enter first number:  5\n",
      "enter second number:  2\n"
     ]
    },
    {
     "name": "stdout",
     "output_type": "stream",
     "text": [
      " initial content number1 =5, number2 =2\n",
      " After Swap number1 =2, number2 =5\n"
     ]
    }
   ],
   "source": [
    "#2Q. Using input function take two number and then swap the number \n",
    "\n",
    "#..Declaring two input variables..#\n",
    "number1 = input((\"enter first number: \"))          \n",
    "number2 = input((\"enter second number: \"))       \n",
    "\n",
    "#..Printing Initial values to more understanding..#\n",
    "print(f' initial content number1 ={number1}, number2 ={number2}')\n",
    "\n",
    "#..Swapping variables using single statement..#\n",
    "number1, number2 = number2, number1\n",
    "\n",
    "#..Printing after swap..#\n",
    "print(f' After Swap number1 ={number1}, number2 ={number2}')\n"
   ]
  },
  {
   "cell_type": "code",
   "execution_count": 5,
   "id": "fef98012-92ab-439d-bcb6-0b2e23549d22",
   "metadata": {},
   "outputs": [
    {
     "name": "stdin",
     "output_type": "stream",
     "text": [
      "enter kilometers:  40\n"
     ]
    },
    {
     "name": "stdout",
     "output_type": "stream",
     "text": [
      "40.0 km in miles is = 24.85\n"
     ]
    }
   ],
   "source": [
    "#3Q. Write a Program to Convert Kilometers to Miles \n",
    "\n",
    "#....Taking input for kilometers....#\n",
    "KM = float(input('enter kilometers: '))\n",
    "\n",
    "#....kilometer to miles conversion formula....#\n",
    "miles = KM*0.62137\n",
    "\n",
    "print(f'{KM} km in miles is = {miles:.2f}')\n"
   ]
  },
  {
   "cell_type": "code",
   "execution_count": 7,
   "id": "42c6b84f-d4cf-449e-b317-b912aa9f4b95",
   "metadata": {},
   "outputs": [
    {
     "name": "stdin",
     "output_type": "stream",
     "text": [
      "Enter the principal amount:  200\n",
      "Enter the rate of interest (in %):  5\n",
      "Enter the time (in years):  5\n"
     ]
    },
    {
     "name": "stdout",
     "output_type": "stream",
     "text": [
      "The Simple Interest is: 50.00\n"
     ]
    }
   ],
   "source": [
    "#4Q. Find the Simple Interest on Rs. 200 for 5 years at 5% per year.\n",
    "\n",
    "#...Taking input from user...#\n",
    "principal = float(input(\"Enter the principal amount: \"))\n",
    "rate = float(input(\"Enter the rate of interest (in %): \"))\n",
    "time = float(input(\"Enter the time (in years): \"))\n",
    "\n",
    "#...Using simple intrest formula...#\n",
    "simple_interest = (principal * rate * time) / 100\n",
    "\n",
    "print(f\"The Simple Interest is: {simple_interest:.2f}\")"
   ]
  }
 ],
 "metadata": {
  "kernelspec": {
   "display_name": "Python [conda env:base] *",
   "language": "python",
   "name": "conda-base-py"
  },
  "language_info": {
   "codemirror_mode": {
    "name": "ipython",
    "version": 3
   },
   "file_extension": ".py",
   "mimetype": "text/x-python",
   "name": "python",
   "nbconvert_exporter": "python",
   "pygments_lexer": "ipython3",
   "version": "3.10.16"
  }
 },
 "nbformat": 4,
 "nbformat_minor": 5
}
