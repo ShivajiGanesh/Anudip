{
 "cells": [
  {
   "cell_type": "code",
   "execution_count": 10,
   "id": "f54c998e",
   "metadata": {},
   "outputs": [
    {
     "name": "stdout",
     "output_type": "stream",
     "text": [
      "1 2 3 4 5 6 7 8 9 10 "
     ]
    }
   ],
   "source": [
    "#1Q. Print the first 10 natural numbers using for loop\n",
    "for i in range(1, 11):\n",
    "    print(i, end=\" \")"
   ]
  },
  {
   "cell_type": "code",
   "execution_count": 2,
   "id": "6a2861d9",
   "metadata": {},
   "outputs": [
    {
     "name": "stdout",
     "output_type": "stream",
     "text": [
      "Enter a string in lowercase: naccan\n",
      "naccan is a palindrome string\n"
     ]
    }
   ],
   "source": [
    "#2Q. Python program to check if the given string is a palindrome\n",
    "\n",
    "#..Taking input from the user..#\n",
    "my_str = input('Enter a string in lowercase: ')\n",
    "\n",
    "#..Initialize reversed string..#\n",
    "rev_str = ''\n",
    "\n",
    "#..Reverse the string using a loop..#\n",
    "for char in my_str:\n",
    "    rev_str = char + rev_str\n",
    "\n",
    "#..Check if the original and reversed strings are the same..#\n",
    "if my_str == rev_str:\n",
    "    print(f'{my_str} is a palindrome string')\n",
    "else:\n",
    "    print(f'{my_str} is not a palindrome string')\n"
   ]
  },
  {
   "cell_type": "code",
   "execution_count": 3,
   "id": "f9bb905b",
   "metadata": {},
   "outputs": [
    {
     "name": "stdout",
     "output_type": "stream",
     "text": [
      "Enter a number: 45\n",
      "45 is not an Armstrong number.\n"
     ]
    }
   ],
   "source": [
    "#3Q. Function to check if a number is an Armstrong number\n",
    "\n",
    "def is_armstrong(number):\n",
    "    #..Convert number to string to count digits..#\n",
    "    digits = str(number)\n",
    "    power = len(digits)  \n",
    "    #..Calculate sum of each digit raised to the power of total digits..#\n",
    "    total = sum(int(digit) ** power for digit in digits)\n",
    "    return total == number\n",
    "\n",
    "#..Taking input from the user..#\n",
    "number = int(input(\"Enter a number: \"))\n",
    "\n",
    "#..Check if the number is an Armstrong number..#\n",
    "if is_armstrong(number):\n",
    "    print(f\"{number} is an Armstrong number.\")\n",
    "else:\n",
    "    print(f\"{number} is not an Armstrong number.\")"
   ]
  },
  {
   "cell_type": "code",
   "execution_count": 4,
   "id": "5d603e90",
   "metadata": {},
   "outputs": [
    {
     "name": "stdout",
     "output_type": "stream",
     "text": [
      "0 1 1 2 3 5 8 13 21 34 "
     ]
    }
   ],
   "source": [
    "#4Q. Function to generate Fibonacci series up to a given limit\n",
    "def fibonacci_series(limit):\n",
    "    #..Initialize first two Fibonacci numbers..#\n",
    "    a, b = 0, 1  \n",
    "    #..Loop to generate Fibonacci numbers until the limit is reached..#\n",
    "    while a <= limit:\n",
    "        print(a, end=\" \")\n",
    "        a, b = b, a + b\n",
    "\n",
    "#..Call the function with limit 50..#\n",
    "fibonacci_series(50)"
   ]
  },
  {
   "cell_type": "code",
   "execution_count": 5,
   "id": "795d45d3",
   "metadata": {},
   "outputs": [
    {
     "name": "stdout",
     "output_type": "stream",
     "text": [
      "Enter a password: Password@123\n",
      "The password is valid.\n"
     ]
    }
   ],
   "source": [
    "#5Q. Python program to check the validity of password input by users\n",
    "\n",
    "#..Function to validate password..#\n",
    "def is_valid_password(password):\n",
    "    #..Check length..#\n",
    "    if len(password) < 8:\n",
    "        print(\"Password must be at least 8 characters long.\")\n",
    "        return False\n",
    "    \n",
    "    has_upper = False\n",
    "    has_lower = False\n",
    "    has_digit = False\n",
    "    has_special = False\n",
    "\n",
    "    #..Check for required character types..#\n",
    "    for char in password:\n",
    "        if char.isupper():\n",
    "            has_upper = True\n",
    "        elif char.islower():\n",
    "            has_lower = True\n",
    "        elif char.isdigit():\n",
    "            has_digit = True\n",
    "        elif char in \"!@#$%^&*()\":\n",
    "            has_special = True\n",
    "\n",
    "    #..Check if all conditions are met..#\n",
    "    if not has_upper:\n",
    "        print(\"Password must have at least one uppercase letter.\")\n",
    "        return False\n",
    "    if not has_lower:\n",
    "        print(\"Password must have at least one lowercase letter.\")\n",
    "        return False\n",
    "    if not has_digit:\n",
    "        print(\"Password must have at least one digit.\")\n",
    "        return False\n",
    "    if not has_special:\n",
    "        print(\"Password must have at least one special character (!@#$%^&*()).\")\n",
    "        return False\n",
    "\n",
    "    return True\n",
    "\n",
    "#..Take input from the user..#\n",
    "password = input(\"Enter a password: \")\n",
    "\n",
    "#..Validate the password..#\n",
    "if is_valid_password(password):\n",
    "    print(\"The password is valid.\")\n",
    "else:\n",
    "    print(\"The password is invalid.\")\n"
   ]
  }
 ],
 "metadata": {
  "kernelspec": {
   "display_name": "Python [conda env:base] *",
   "language": "python",
   "name": "conda-base-py"
  },
  "language_info": {
   "codemirror_mode": {
    "name": "ipython",
    "version": 3
   },
   "file_extension": ".py",
   "mimetype": "text/x-python",
   "name": "python",
   "nbconvert_exporter": "python",
   "pygments_lexer": "ipython3",
   "version": "3.10.16"
  }
 },
 "nbformat": 4,
 "nbformat_minor": 5
}
