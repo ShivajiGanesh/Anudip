{
 "cells": [
  {
   "cell_type": "code",
   "execution_count": 8,
   "id": "422bf3a6",
   "metadata": {},
   "outputs": [
    {
     "name": "stdout",
     "output_type": "stream",
     "text": [
      "Enter the first number (numerator): 2\n",
      "Enter the second number (denominator): 4\n",
      "Result of division: 0.5\n"
     ]
    }
   ],
   "source": [
    "#1. Declare a div() function with two parameters. Then call the function and pass two numbers and display their division. \n",
    "\n",
    "def div(a, b):\n",
    "    if b == 0: \n",
    "        return \"Division by zero is not allowed.\"\n",
    "    return a / b\n",
    "\n",
    "num1 = float(input(\"Enter the first number (numerator): \"))\n",
    "num2 = float(input(\"Enter the second number (denominator): \"))\n",
    "\n",
    "result = div(num1, num2)\n",
    "print(\"Result of division:\", result)"
   ]
  },
  {
   "cell_type": "code",
   "execution_count": 7,
   "id": "a38561ae",
   "metadata": {},
   "outputs": [
    {
     "name": "stdout",
     "output_type": "stream",
     "text": [
      "Enter a number: 5\n",
      "The square of 5.0 is 25.0.\n"
     ]
    }
   ],
   "source": [
    "#2. Declare a square() function with one parameter. Then call the function and pass one number and \n",
    "#display the square of that number . \n",
    "\n",
    "def square(num):\n",
    "    return num ** 2 \n",
    "\n",
    "num = float(input(\"Enter a number: \"))\n",
    "\n",
    "result = square(num)\n",
    "print(f\"The square of {num} is {result}.\")"
   ]
  },
  {
   "cell_type": "code",
   "execution_count": 5,
   "id": "390bf87d",
   "metadata": {},
   "outputs": [
    {
     "name": "stdout",
     "output_type": "stream",
     "text": [
      "Random Numbers: [22, 89, 47, 6, 24]\n",
      "Maximum: 89\n",
      "Minimum: 6\n"
     ]
    }
   ],
   "source": [
    "#3. Using max() and min() functions display the maximum and minimum of 5 random numbers.\n",
    "import random\n",
    "\n",
    "rand_num_list = []\n",
    "\n",
    "for _ in range(5): \n",
    "    rand_num_list.append(random.randint(1, 100))\n",
    "\n",
    "print(\"Random Numbers:\", rand_num_list)\n",
    "\n",
    "print(\"Maximum:\", max(rand_num_list))\n",
    "print(\"Minimum:\", min(rand_num_list))"
   ]
  },
  {
   "cell_type": "code",
   "execution_count": 6,
   "id": "7765ffb7",
   "metadata": {},
   "outputs": [
    {
     "name": "stdout",
     "output_type": "stream",
     "text": [
      "Enter your name: SHIVAJI\n",
      "Name in lowercase: shivaji\n"
     ]
    }
   ],
   "source": [
    "#4. Accept a name from the user and display that in lower case using lower() function\n",
    "\n",
    "name = input(\"Enter your name: \")\n",
    "\n",
    "lowercase_name = name.lower()\n",
    "\n",
    "print(\"Name in lowercase:\", lowercase_name)"
   ]
  }
 ],
 "metadata": {
  "kernelspec": {
   "display_name": "Python [conda env:base] *",
   "language": "python",
   "name": "conda-base-py"
  },
  "language_info": {
   "codemirror_mode": {
    "name": "ipython",
    "version": 3
   },
   "file_extension": ".py",
   "mimetype": "text/x-python",
   "name": "python",
   "nbconvert_exporter": "python",
   "pygments_lexer": "ipython3",
   "version": "3.10.16"
  }
 },
 "nbformat": 4,
 "nbformat_minor": 5
}
