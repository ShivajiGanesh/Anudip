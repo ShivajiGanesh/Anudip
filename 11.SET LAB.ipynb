{
 "cells": [
  {
   "cell_type": "code",
   "execution_count": 1,
   "id": "664f46c8",
   "metadata": {},
   "outputs": [
    {
     "name": "stdout",
     "output_type": "stream",
     "text": [
      "(70, 40, 10, 50, 20, 60, 30)\n"
     ]
    }
   ],
   "source": [
    "# 1.Write a Python program to Get Only unique items from two sets. \n",
    "#  Input: set1 (10, 20, 30, 40, 50), set2 (30, 40, 50, 60, 70) \n",
    "#  Output: (70, 40, 10, 50, 20, 60, 30)\n",
    "\n",
    "#..Define two sets..#\n",
    "set1 = {10, 20, 30, 40, 50}\n",
    "set2 = {30, 40, 50, 60, 70}\n",
    "\n",
    "#..Find unique items using union operation..#\n",
    "unique_items = set1.union(set2)\n",
    "\n",
    "#..Convert the unique items set to a tuple..#\n",
    "unique_tuple = tuple(unique_items)\n",
    "\n",
    "#..Print the tuple containing unique items..#\n",
    "print(unique_tuple)\n"
   ]
  },
  {
   "cell_type": "code",
   "execution_count": 1,
   "id": "a155602c",
   "metadata": {},
   "outputs": [
    {
     "name": "stdout",
     "output_type": "stream",
     "text": [
      "(20, 70, 10, 60)\n"
     ]
    }
   ],
   "source": [
    "# 2. Write a Python program to Return a set of elements present in Set A or B, but not both. \n",
    "# Input: set1 (10, 20, 30, 40, 50),set2 (30, 40, 50, 60, 70)\n",
    "# Output: (20, 70, 10, 60}\n",
    "\n",
    "#..Define two sets..#\n",
    "set1 = {10, 20, 30, 40, 50}\n",
    "set2 = {30, 40, 50, 60, 70}\n",
    "\n",
    "#..Find symmetric difference (elements present in either set, but not both)..#\n",
    "symmetric_difference = set1.symmetric_difference(set2)\n",
    "\n",
    "#..Convert the symmetric difference set to a tuple..#\n",
    "symmetric_tuple = tuple(symmetric_difference)\n",
    "\n",
    "#..Print the tuple containing symmetric difference..#\n",
    "print(symmetric_tuple)"
   ]
  },
  {
   "cell_type": "code",
   "execution_count": 3,
   "id": "2e904a0b",
   "metadata": {},
   "outputs": [
    {
     "name": "stdout",
     "output_type": "stream",
     "text": [
      "(10,)\n"
     ]
    }
   ],
   "source": [
    "# 3. Write a Python program to Check if two sets have any elements in common. If yes, display the common elements. \n",
    "# Input: set1 (10, 20, 30, 40, 50) set2 (60, 70, 80, 90, 10)\n",
    "# Output: (10)\n",
    "\n",
    "#..Define two sets..#\n",
    "set1 = {10, 20, 30, 40, 50}\n",
    "set2 = {60, 70, 80, 90, 10}\n",
    "\n",
    "#..Find common elements using intersection operation..#\n",
    "common_elements = set1.intersection(set2)\n",
    "\n",
    "#..Convert the common elements set to a tuple..#\n",
    "common_elements_tuple = tuple(common_elements)\n",
    "\n",
    "#..Print the tuple containing common elements..#\n",
    "print(common_elements_tuple)"
   ]
  },
  {
   "cell_type": "code",
   "execution_count": 5,
   "id": "bda0924d",
   "metadata": {},
   "outputs": [
    {
     "name": "stdout",
     "output_type": "stream",
     "text": [
      "(40, 50, 30)\n"
     ]
    }
   ],
   "source": [
    "# 4. Write a Python program to Remove items from set1 that are not common to both set1 and set2.\n",
    "\n",
    "#..Define two sets..#\n",
    "set1 = {10, 20, 30, 40, 50}\n",
    "set2 = {30, 40, 50, 60, 70}\n",
    "\n",
    "#..Update set1 with the intersection of set1 and set2..#\n",
    "set1.intersection_update(set2)\n",
    "\n",
    "#..Convert the updated set1 to a tuple..#\n",
    "common_tuple = tuple(set1)\n",
    "\n",
    "#..Print the tuple containing common elements..#\n",
    "print(common_tuple)"
   ]
  }
 ],
 "metadata": {
  "kernelspec": {
   "display_name": "Python [conda env:base] *",
   "language": "python",
   "name": "conda-base-py"
  },
  "language_info": {
   "codemirror_mode": {
    "name": "ipython",
    "version": 3
   },
   "file_extension": ".py",
   "mimetype": "text/x-python",
   "name": "python",
   "nbconvert_exporter": "python",
   "pygments_lexer": "ipython3",
   "version": "3.10.16"
  }
 },
 "nbformat": 4,
 "nbformat_minor": 5
}
