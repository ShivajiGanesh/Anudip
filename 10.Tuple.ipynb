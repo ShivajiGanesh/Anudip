{
 "cells": [
  {
   "cell_type": "code",
   "execution_count": 1,
   "id": "118f3ba6",
   "metadata": {},
   "outputs": [
    {
     "name": "stdout",
     "output_type": "stream",
     "text": [
      "3\n"
     ]
    }
   ],
   "source": [
    "#1. Write a Python program to find the number of times 4 appears in the tuple. \n",
    "#Input: \n",
    "#tuplex = (2, 4, 5, 6, 2, 3, 4, 4, 7 )\n",
    "\n",
    "#..Define the tuple..#\n",
    "tuplex = (2, 4, 5, 6, 2, 3, 4, 4, 7)\n",
    "\n",
    "#..Count occurrences of the number 4 in the tuple..#\n",
    "cnt = tuplex.count(4)\n",
    "\n",
    "#..Print the count of 4..#\n",
    "print(cnt)"
   ]
  },
  {
   "cell_type": "code",
   "execution_count": 2,
   "id": "cc309a06",
   "metadata": {},
   "outputs": [
    {
     "data": {
      "text/plain": [
       "list"
      ]
     },
     "execution_count": 2,
     "metadata": {},
     "output_type": "execute_result"
    }
   ],
   "source": [
    "#2.Write a Python program to convert a list to a tuple.\n",
    "#Input:\n",
    "#listx = [5, 10, 7, 4, 15, 3]\n",
    "\n",
    "#..Define the list..#\n",
    "listx = [5, 10, 7, 4, 15, 3]\n",
    "\n",
    "#..Print the type of listx..#\n",
    "print(type(listx))"
   ]
  },
  {
   "cell_type": "code",
   "execution_count": 3,
   "id": "87964465",
   "metadata": {},
   "outputs": [],
   "source": [
    "#..converting list to tuple..#\n",
    "listx = tuple(listx)"
   ]
  },
  {
   "cell_type": "code",
   "execution_count": 4,
   "id": "6023acaa",
   "metadata": {},
   "outputs": [
    {
     "data": {
      "text/plain": [
       "tuple"
      ]
     },
     "execution_count": 4,
     "metadata": {},
     "output_type": "execute_result"
    }
   ],
   "source": [
    "#..checking type of list after converting to tuple..#\n",
    "type(listx)"
   ]
  },
  {
   "cell_type": "code",
   "execution_count": 5,
   "id": "a6a14866",
   "metadata": {},
   "outputs": [
    {
     "data": {
      "text/plain": [
       "3"
      ]
     },
     "execution_count": 5,
     "metadata": {},
     "output_type": "execute_result"
    }
   ],
   "source": [
    "#3.Write a Python program to calculate the sum of the numbers in a given tuple.\n",
    "#Input:\n",
    "#tuples_list = [(1, 2), (3, 4), (5, 6)]\n",
    "\n",
    "#..Define a list of tuples..#\n",
    "tuples_list = [(1, 2), (3, 4), (5, 6)]\n",
    "#..Calculate and print the sum of elements in each tuple..#\n",
    "sum(tuples_list[0])"
   ]
  },
  {
   "cell_type": "code",
   "execution_count": 6,
   "id": "083d27f1",
   "metadata": {},
   "outputs": [
    {
     "data": {
      "text/plain": [
       "7"
      ]
     },
     "execution_count": 6,
     "metadata": {},
     "output_type": "execute_result"
    }
   ],
   "source": [
    "sum(tuples_list[1])"
   ]
  },
  {
   "cell_type": "code",
   "execution_count": 7,
   "id": "229a3c65",
   "metadata": {},
   "outputs": [
    {
     "data": {
      "text/plain": [
       "11"
      ]
     },
     "execution_count": 7,
     "metadata": {},
     "output_type": "execute_result"
    }
   ],
   "source": [
    "sum(tuples_list[2])"
   ]
  },
  {
   "cell_type": "code",
   "execution_count": 8,
   "id": "a432a8c8",
   "metadata": {},
   "outputs": [
    {
     "name": "stdout",
     "output_type": "stream",
     "text": [
      "Name: John Doe, ID: 101, Department: Human Resources, Salary: 60000\n",
      "Name: Alice Smith, ID: 102, Department: Marketing, Salary: 55000\n",
      "Name: Bob Johnson, ID: 103, Department: Engineering, Salary: 75000\n"
     ]
    }
   ],
   "source": [
    "#4.Write a python program and iterate the given tuples \n",
    "#Input: \n",
    "\n",
    "#..Define employee tuples..#\n",
    "employee1 = (\"John Doe\", 101, \"Human Resources\", 60000)\n",
    "employee2 = (\"Alice Smith\", 102, \"Marketing\", 55000)\n",
    "employee3 = (\"Bob Johnson\", 103, \"Engineering\", 75000)\n",
    "\n",
    "#..Store tuples in a list..#\n",
    "list_employees = [employee1, employee2, employee3]\n",
    "\n",
    "#..Loop through each tuple and print employee details..#\n",
    "for employee in list_employees:\n",
    "    print(f\"Name: {employee[0]}, ID: {employee[1]}, Department: {employee[2]}, Salary: {employee[3]}\")\n"
   ]
  }
 ],
 "metadata": {
  "kernelspec": {
   "display_name": "Python [conda env:base] *",
   "language": "python",
   "name": "conda-base-py"
  },
  "language_info": {
   "codemirror_mode": {
    "name": "ipython",
    "version": 3
   },
   "file_extension": ".py",
   "mimetype": "text/x-python",
   "name": "python",
   "nbconvert_exporter": "python",
   "pygments_lexer": "ipython3",
   "version": "3.10.16"
  }
 },
 "nbformat": 4,
 "nbformat_minor": 5
}
