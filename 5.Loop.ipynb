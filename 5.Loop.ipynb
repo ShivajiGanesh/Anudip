{
 "cells": [
  {
   "cell_type": "code",
   "execution_count": 2,
   "id": "adc8278e-b895-4fa1-9333-17d29e869b3e",
   "metadata": {},
   "outputs": [
    {
     "name": "stdin",
     "output_type": "stream",
     "text": [
      "Enter a number:  123456\n"
     ]
    },
    {
     "name": "stdout",
     "output_type": "stream",
     "text": [
      "The reversed number is: 654321\n"
     ]
    }
   ],
   "source": [
    "#Q1. Write a python program to reverse a number using a while loop. \n",
    "\n",
    "#..Function to reverse a number..#\n",
    "def reverse_number():\n",
    "    #..Taking input from the user..#\n",
    "    number = int(input(\"Enter a number: \"))\n",
    "    #...Initialize reversed number to 0...# \n",
    "    rev_number = 0 \n",
    "    #..Loop to extract digits and build the reversed number..#\n",
    "    while number > 0:\n",
    "        digit = number % 10 \n",
    "        rev_number = rev_number * 10 + digit \n",
    "        number //= 10  \n",
    "    #..Display the reversed number..#\n",
    "    print(f\"The reversed number is: {rev_number}\")\n",
    "\n",
    "#..Call the function to execute..#\n",
    "reverse_number()\n"
   ]
  },
  {
   "cell_type": "code",
   "execution_count": 6,
   "id": "5165c2b0-f19c-45a1-a60b-d7b7644f4dbc",
   "metadata": {},
   "outputs": [
    {
     "name": "stdin",
     "output_type": "stream",
     "text": [
      "Enter a number:  123321\n"
     ]
    },
    {
     "name": "stdout",
     "output_type": "stream",
     "text": [
      "123321 is a palindrome\n"
     ]
    }
   ],
   "source": [
    "#Q2. Write a python program to check whether a number is palindrome or not? \n",
    "\n",
    "def is_palindrome():\n",
    "    #...Input as an integer...#\n",
    "    number = int(input(\"Enter a number: \"))\n",
    "    #...Store the original number...#\n",
    "    temp = number \n",
    "    rev_number = 0  \n",
    "    #...Using while condition to check reverse number...#\n",
    "    while temp > 0:\n",
    "        digit = temp % 10  \n",
    "        rev_number = rev_number * 10 + digit  \n",
    "        temp //= 10  \n",
    "    #...If number is equal to reverse number prints output...#\n",
    "    if number == rev_number:\n",
    "        print(f\"{number} is a palindrome\")\n",
    "    else:\n",
    "        print(f\"{number} is not a palindrome\")\n",
    "#..calling function..#        \n",
    "is_palindrome()        "
   ]
  },
  {
   "cell_type": "code",
   "execution_count": 14,
   "id": "2dc1ab8f-eb11-4d27-95dc-5437ec4e4be9",
   "metadata": {},
   "outputs": [
    {
     "name": "stdin",
     "output_type": "stream",
     "text": [
      "Enter a number to find its factorial:  5\n"
     ]
    },
    {
     "name": "stdout",
     "output_type": "stream",
     "text": [
      "The factorial of 5 is: 120\n"
     ]
    }
   ],
   "source": [
    "#Q3. Write a python program finding the factorial of a given number using a while loop.\n",
    " \n",
    "def factorial():\n",
    "    #...Taking input as an integer...#\n",
    "    number = int(input(\"Enter a number to find its factorial: \"))\n",
    "\n",
    "    fact = 1\n",
    "    i = 1\n",
    "    #...Using while condition for factorial...#\n",
    "    while i <= number:\n",
    "        fact *= i\n",
    "        i += 1\n",
    "\n",
    "    print(f\"The factorial of {number} is: {fact}\")\n",
    "factorial()    "
   ]
  },
  {
   "cell_type": "code",
   "execution_count": 18,
   "id": "7f930560-282e-4d1a-a320-8c287e1cf217",
   "metadata": {},
   "outputs": [
    {
     "name": "stdin",
     "output_type": "stream",
     "text": [
      "Enter a number (enter 0 to stop):  1\n",
      "Enter a number (enter 0 to stop):  2\n",
      "Enter a number (enter 0 to stop):  2\n",
      "Enter a number (enter 0 to stop):  5\n",
      "Enter a number (enter 0 to stop):  4\n",
      "Enter a number (enter 0 to stop):  55\n",
      "Enter a number (enter 0 to stop):  66\n",
      "Enter a number (enter 0 to stop):  0\n"
     ]
    },
    {
     "name": "stdout",
     "output_type": "stream",
     "text": [
      "The sum of all entered numbers is 135\n"
     ]
    }
   ],
   "source": [
    "#Q4. Accept numbers using input() function until the user enters 0. If user input 0 then break the while loop and display the sum of all the numbers\n",
    "\n",
    "def sum_numbers():\n",
    "    #...pre declaring variable for sum...#\n",
    "    total_sum = 0\n",
    "    while True:\n",
    "        #...Taking input from user until user gives zero...#\n",
    "        num = int(input(\"Enter a number (enter 0 to stop): \"))\n",
    "        if num == 0:\n",
    "            break\n",
    "        #...after zero prints sum of all input numbers...#   \n",
    "        total_sum += num\n",
    "    print(f\"The sum of all entered numbers is {total_sum}\")\n",
    "sum_numbers()"
   ]
  }
 ],
 "metadata": {
  "kernelspec": {
   "display_name": "Python [conda env:base] *",
   "language": "python",
   "name": "conda-base-py"
  },
  "language_info": {
   "codemirror_mode": {
    "name": "ipython",
    "version": 3
   },
   "file_extension": ".py",
   "mimetype": "text/x-python",
   "name": "python",
   "nbconvert_exporter": "python",
   "pygments_lexer": "ipython3",
   "version": "3.10.16"
  }
 },
 "nbformat": 4,
 "nbformat_minor": 5
}
