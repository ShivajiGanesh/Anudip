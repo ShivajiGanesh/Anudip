{
 "cells": [
  {
   "cell_type": "code",
   "execution_count": 1,
   "id": "7e341c06-272d-4650-84b9-3d4ff56232f0",
   "metadata": {},
   "outputs": [
    {
     "name": "stdout",
     "output_type": "stream",
     "text": [
      "9\n",
      "20\n"
     ]
    }
   ],
   "source": [
    "#1Q. Calculate the multiplication and sum of two numbers \n",
    "#..Declare variables..#\n",
    "a = 5\n",
    "b = 4\n",
    "#..print with add condition..#\n",
    "print(a+b)\n",
    "print(a*b)\n",
    "#..or we can use another approach..#\n",
    "ADD = a+b\n",
    "MUL = a*b\n",
    "print(ADD)\n",
    "print(MUL)"
   ]
  },
  {
   "cell_type": "code",
   "execution_count": 3,
   "id": "e5873e1c-7dc4-498a-9a44-ab56f6d6d6b9",
   "metadata": {},
   "outputs": [
    {
     "name": "stdout",
     "output_type": "stream",
     "text": [
      "The largest variable is: 25\n"
     ]
    }
   ],
   "source": [
    "#2Q. Declare two variables and print that which variable is largest using ternary operators \n",
    "a = 15\n",
    "b = 25\n",
    "#....Using greater than operator for comparing both numbers and checking true or false....#\n",
    "if a > b:\n",
    "    print(f\"{a}, is greater than {b}\")\n",
    "else: \n",
    "    print(f\"The largest variable is: {b}\")"
   ]
  },
  {
   "cell_type": "code",
   "execution_count": 9,
   "id": "6bf1e7f7-cc99-45a7-bccd-63b179986698",
   "metadata": {},
   "outputs": [
    {
     "name": "stdout",
     "output_type": "stream",
     "text": [
      "113.0\n"
     ]
    }
   ],
   "source": [
    "#3Q. Python program to convert the temperature in degree centigrade to Fahrenheit \n",
    "\n",
    "Celsius = 45\n",
    "#....Celsius to Fahrenheit fromula....#\n",
    "Fahrenheit =(Celsius*9/5) + 32\n",
    "\n",
    "print(Fahrenheit)"
   ]
  },
  {
   "cell_type": "code",
   "execution_count": 11,
   "id": "5a1fd792-5624-448d-a74d-3b5d67552e38",
   "metadata": {},
   "outputs": [
    {
     "name": "stdin",
     "output_type": "stream",
     "text": [
      "Enter the base length of triangle:  2\n",
      "Enter the height length of triangle:  4\n"
     ]
    },
    {
     "name": "stdout",
     "output_type": "stream",
     "text": [
      "Area of triangle with base 2.0 and height 4.0 = 4.00\n"
     ]
    }
   ],
   "source": [
    "#4Q. Python program to find the area of a triangle whose sides are given\n",
    "\n",
    "#....Taking input from user....#\n",
    "base = float(input('Enter the base length of triangle: '))\n",
    "height = float(input('Enter the height length of triangle: '))\n",
    "\n",
    "#....Area condition....#\n",
    "area = (1/2) * base * height\n",
    "\n",
    "print(f'Area of triangle with base {base} and height {height} = {area:.2f}')"
   ]
  }
 ],
 "metadata": {
  "kernelspec": {
   "display_name": "Python [conda env:base] *",
   "language": "python",
   "name": "conda-base-py"
  },
  "language_info": {
   "codemirror_mode": {
    "name": "ipython",
    "version": 3
   },
   "file_extension": ".py",
   "mimetype": "text/x-python",
   "name": "python",
   "nbconvert_exporter": "python",
   "pygments_lexer": "ipython3",
   "version": "3.10.16"
  }
 },
 "nbformat": 4,
 "nbformat_minor": 5
}
