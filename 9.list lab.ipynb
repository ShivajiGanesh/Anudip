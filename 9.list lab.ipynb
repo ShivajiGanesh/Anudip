{
 "cells": [
  {
   "cell_type": "code",
   "execution_count": 1,
   "id": "b30a91a4",
   "metadata": {},
   "outputs": [
    {
     "data": {
      "text/plain": [
       "22"
      ]
     },
     "execution_count": 1,
     "metadata": {},
     "output_type": "execute_result"
    }
   ],
   "source": [
    "#1. Write a Python program to sum all the items in a list.\n",
    "\n",
    "#..Creating list and printing sum of list elements..#\n",
    "python_list = [2,3,4,6,7]\n",
    "sum(python_list)"
   ]
  },
  {
   "cell_type": "code",
   "execution_count": null,
   "id": "52926a6d",
   "metadata": {},
   "outputs": [],
   "source": [
    "#2. Write a Python program to get the largest and smallest number from a list without builtin functions. \n",
    "\n",
    "#..Define the list of numbers..#\n",
    "numbers = [12, 5, 8, 21, 7, 3, 18]\n",
    "\n",
    "#..Initialize largest and smallest with the first element..#\n",
    "largest = numbers[0]\n",
    "smallest = numbers[0]\n",
    "\n",
    "#..Loop through each number in the list..#\n",
    "for i in numbers:\n",
    "    if i > largest:\n",
    "        largest = i\n",
    "    if i < smallest:\n",
    "        smallest = i\n",
    "\n",
    "#..Print the largest and smallest numbers..#\n",
    "print(f\"Largest number: {largest}\")\n",
    "print(f\"Smallest number: {smallest}\")"
   ]
  },
  {
   "cell_type": "code",
   "execution_count": null,
   "id": "7634d002",
   "metadata": {},
   "outputs": [],
   "source": [
    "#3. Write a Python program to find duplicate values from a list and display those. \n",
    "\n",
    "\n",
    "#..Define the list of numbers..#\n",
    "numbers = [4, 5, 6, 4, 7, 8, 5, 9, 10, 8]\n",
    "\n",
    "#..Initialize an empty list to store duplicates..#\n",
    "duplicates = []\n",
    "\n",
    "#..Loop through each number in the list..#\n",
    "for i in numbers:\n",
    "    if numbers.count(i) > 1 and i not in duplicates:\n",
    "        duplicates.append(i)\n",
    "\n",
    "#..Print the duplicate values..#\n",
    "print(\"Duplicate values:\", duplicates)\n"
   ]
  },
  {
   "cell_type": "code",
   "execution_count": 4,
   "id": "795a7ea1",
   "metadata": {},
   "outputs": [
    {
     "name": "stdout",
     "output_type": "stream",
     "text": [
      "Original list: [1, 1, 2, 3, 4, 4, 5, 1]\n",
      "Splitted the said list into two parts: ([1, 1, 2], [3, 4, 4, 5, 1])\n"
     ]
    }
   ],
   "source": [
    "#4. Write a Python program to split a given list into two parts where the length of the first part of the list is given. \n",
    "\n",
    "#Original list: [1, 1, 2, 3, 4, 4, 5, 1] \n",
    "#Length of the first part of the list: 3 \n",
    "#Splitted the said list into two parts: ([1, 1, 2], [3, 4, 4, 5, 1]) \n",
    "\n",
    "#..Define the list of numbers..#\n",
    "numbers = [1, 1, 2, 3, 4, 4, 5, 1]\n",
    "\n",
    "# length_first_part = 3, slicing\n",
    "\n",
    "#..Slice the list into two parts..#\n",
    "first_part = numbers[:3]\n",
    "second_part = numbers[3:]\n",
    "\n",
    "#..Print the original list and the splitted parts..#\n",
    "print(\"Original list:\", numbers)\n",
    "print(\"Splitted the said list into two parts:\", (first_part, second_part))"
   ]
  },
  {
   "cell_type": "code",
   "execution_count": 12,
   "id": "edec8548",
   "metadata": {},
   "outputs": [
    {
     "name": "stdout",
     "output_type": "stream",
     "text": [
      "['black', 'white', 'green', 'red']\n"
     ]
    }
   ],
   "source": [
    "#5. Write a Python program to traverse a given list in reverse order, and print the elements with the original index. \n",
    "#Original list: ['red', 'green', 'white', 'black'] \n",
    "#Traverse the said list in reverse order: \n",
    "\n",
    "#black \n",
    "#white\n",
    "#green\n",
    "#red\n",
    "\n",
    "#..Define the original list..#\n",
    "Original_list = ['red', 'green', 'white', 'black']\n",
    "\n",
    "#..Reverse the list using slicing..#\n",
    "reverse_list = Original_list[::-1]\n",
    "\n",
    "#..Print the reversed list..#\n",
    "print(reverse_list)"
   ]
  }
 ],
 "metadata": {
  "kernelspec": {
   "display_name": "Python [conda env:base] *",
   "language": "python",
   "name": "conda-base-py"
  },
  "language_info": {
   "codemirror_mode": {
    "name": "ipython",
    "version": 3
   },
   "file_extension": ".py",
   "mimetype": "text/x-python",
   "name": "python",
   "nbconvert_exporter": "python",
   "pygments_lexer": "ipython3",
   "version": "3.10.16"
  }
 },
 "nbformat": 4,
 "nbformat_minor": 5
}
