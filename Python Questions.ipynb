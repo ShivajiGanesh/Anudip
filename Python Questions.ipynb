{
 "cells": [
  {
   "cell_type": "code",
   "execution_count": 4,
   "id": "644b7889",
   "metadata": {},
   "outputs": [
    {
     "name": "stdout",
     "output_type": "stream",
     "text": [
      "Enter a number: 6\n",
      "1\n",
      "2\n",
      "3\n",
      "4\n",
      "5\n",
      "6\n"
     ]
    }
   ],
   "source": [
    "# Q1. Take a number from the user and prints all the number from 1 to that number\n",
    "\n",
    "num = int(input('Enter a number: '))\n",
    "for n in range(1, num + 1):\n",
    "    print(n)"
   ]
  },
  {
   "cell_type": "code",
   "execution_count": 5,
   "id": "a4a65555",
   "metadata": {},
   "outputs": [
    {
     "name": "stdout",
     "output_type": "stream",
     "text": [
      "Enter a number: 5\n",
      "2\n",
      "4\n"
     ]
    }
   ],
   "source": [
    "# Q2. print only even numbers from 1 to user given number\n",
    "\n",
    "num = int(input('Enter a number: '))\n",
    "for n in range(1, num + 1):   \n",
    "    if n % 2 == 0:\n",
    "        print(n)"
   ]
  },
  {
   "cell_type": "code",
   "execution_count": 7,
   "id": "b763f253",
   "metadata": {},
   "outputs": [
    {
     "name": "stdout",
     "output_type": "stream",
     "text": [
      "Enter a number: 6\n",
      "2 --> 4\n",
      "4 --> 16\n",
      "6 --> 36\n"
     ]
    }
   ],
   "source": [
    "# Q3. print the even numbers and their squares from 2 to user given number\n",
    "\n",
    "num = int(input('Enter a number: '))\n",
    "for n in range(1, num + 1):\n",
    "    if n % 2 == 0:\n",
    "        # print(n, ' --> ', n ** 2)\n",
    "        print(f'{n} --> {n ** 2}')"
   ]
  },
  {
   "cell_type": "code",
   "execution_count": 8,
   "id": "a6911fea",
   "metadata": {},
   "outputs": [
    {
     "name": "stdout",
     "output_type": "stream",
     "text": [
      "Enter a number: 7\n",
      "28\n",
      "7\n"
     ]
    }
   ],
   "source": [
    "# Q4. Sum of Natural Numbers\n",
    "# Write a program to find the sum of all numbers from 1 to user given number.\n",
    "\n",
    "num = int(input('Enter a number: '))\n",
    "s = 0                                \n",
    "for n in range(1, num + 1):         \n",
    "    s += n                          \n",
    "print(s)\n",
    "print(n)"
   ]
  },
  {
   "cell_type": "code",
   "execution_count": 10,
   "id": "7e90ed30",
   "metadata": {},
   "outputs": [
    {
     "data": {
      "text/plain": [
       "6"
      ]
     },
     "execution_count": 10,
     "metadata": {},
     "output_type": "execute_result"
    }
   ],
   "source": [
    "# Q5. find the length of given string\n",
    "\n",
    "len('Python')"
   ]
  },
  {
   "cell_type": "code",
   "execution_count": 11,
   "id": "89afc3c9",
   "metadata": {},
   "outputs": [
    {
     "data": {
      "text/plain": [
       "5"
      ]
     },
     "execution_count": 11,
     "metadata": {},
     "output_type": "execute_result"
    }
   ],
   "source": [
    "len([1, 2, 3, 4, 5])"
   ]
  },
  {
   "cell_type": "code",
   "execution_count": 12,
   "id": "4ac4981f",
   "metadata": {},
   "outputs": [
    {
     "name": "stdout",
     "output_type": "stream",
     "text": [
      "Enter a string: naac\n",
      "caan\n"
     ]
    }
   ],
   "source": [
    "# Q6. Reverse a given string\n",
    "\n",
    "my_str = input('Enter a string: ')\n",
    "rev_str = ''\n",
    "for char in my_str:\n",
    "    rev_str = char + rev_str\n",
    "print(rev_str)"
   ]
  },
  {
   "cell_type": "code",
   "execution_count": 13,
   "id": "6d252050",
   "metadata": {},
   "outputs": [
    {
     "name": "stdout",
     "output_type": "stream",
     "text": [
      "Enter a string in lowercase: racecar\n",
      "racecar is a palindrome string\n"
     ]
    }
   ],
   "source": [
    "# Q7. Python program to check if the given string is a palindrome\n",
    "\n",
    "my_str = input('Enter a string in lowercase: ')\n",
    "\n",
    "rev_str = ''\n",
    "\n",
    "for char in my_str:\n",
    "    rev_str = char + rev_str\n",
    "\n",
    "if my_str == rev_str:\n",
    "    print(f'{my_str} is a palindrome string')\n",
    "else:\n",
    "    print(f'{my_str} is not a palindrome string')"
   ]
  },
  {
   "cell_type": "code",
   "execution_count": 14,
   "id": "6568333e",
   "metadata": {},
   "outputs": [
    {
     "name": "stdout",
     "output_type": "stream",
     "text": [
      "Enter a number: 2\n",
      "2 * 1 = 2\n",
      "2 * 2 = 4\n",
      "2 * 3 = 6\n",
      "2 * 4 = 8\n",
      "2 * 5 = 10\n",
      "2 * 6 = 12\n",
      "2 * 7 = 14\n",
      "2 * 8 = 16\n",
      "2 * 9 = 18\n",
      "2 * 10 = 20\n"
     ]
    }
   ],
   "source": [
    "# Q8. Print a multiplication table of a given number\n",
    "\n",
    "num = int(input('Enter a number: '))\n",
    "for i in range(1, 11):\n",
    "    print(f'{num} * {i} = {num * i}')"
   ]
  },
  {
   "cell_type": "code",
   "execution_count": 15,
   "id": "e3dbaffd",
   "metadata": {},
   "outputs": [
    {
     "name": "stdout",
     "output_type": "stream",
     "text": [
      "Enter a number: 4\n",
      "4! = 24\n"
     ]
    }
   ],
   "source": [
    "# Q9. write a python program to find the factorial of a given number\n",
    "\n",
    "num = int(input('Enter a number: '))\n",
    "fact = 1  \n",
    "for n in range(1, num + 1):\n",
    "    fact *= n\n",
    "print(f'{num}! = {fact}')"
   ]
  },
  {
   "cell_type": "code",
   "execution_count": 16,
   "id": "90d9468b",
   "metadata": {},
   "outputs": [
    {
     "name": "stdout",
     "output_type": "stream",
     "text": [
      "0 0 0 0 \n",
      "0 0 0 0 \n",
      "0 0 0 0 \n",
      "0 0 0 0 \n"
     ]
    }
   ],
   "source": [
    "# Q10. print the square pattern of 0's (4, 4)\n",
    "# 0 0 0 0\n",
    "# 0 0 0 0\n",
    "# 0 0 0 0\n",
    "# 0 0 0 0\n",
    "\n",
    "for i in range(1, 5):\n",
    "    for j in range(1, 5):\n",
    "        print('0', end = ' ')\n",
    "    print(end = '\\n')"
   ]
  },
  {
   "cell_type": "code",
   "execution_count": 17,
   "id": "0a1e589d",
   "metadata": {},
   "outputs": [
    {
     "name": "stdout",
     "output_type": "stream",
     "text": [
      "* * * * * \n",
      "* * * * * \n",
      "* * * * * \n"
     ]
    }
   ],
   "source": [
    "# Q11. print the square pattern of '*' (3, 5)\n",
    "\n",
    "for i in range(3):\n",
    "    for j in range(5):\n",
    "        print('*', end = ' ')\n",
    "    print(end = '\\n')"
   ]
  },
  {
   "cell_type": "code",
   "execution_count": 19,
   "id": "7ee57083",
   "metadata": {},
   "outputs": [
    {
     "name": "stdout",
     "output_type": "stream",
     "text": [
      "* \n",
      "* * \n",
      "* * * \n",
      "* * * * \n",
      "* * * * * \n"
     ]
    }
   ],
   "source": [
    "# Q12. print the right angle triangle pattern of '*' for rows = 5\n",
    "# *\n",
    "# * *\n",
    "# * * *\n",
    "# * * * * \n",
    "# * * * * *\n",
    "\n",
    "rows = 5\n",
    "for row in range(rows):\n",
    "    for col in range(row + 1):\n",
    "        print('*', end = ' ')\n",
    "    print(end = '\\n')"
   ]
  },
  {
   "cell_type": "code",
   "execution_count": 20,
   "id": "6767d272",
   "metadata": {},
   "outputs": [
    {
     "name": "stdout",
     "output_type": "stream",
     "text": [
      "* * * * * \n",
      "* * * * \n",
      "* * * \n",
      "* * \n",
      "* \n"
     ]
    }
   ],
   "source": [
    "# Q13. print the inverted right angle triangle pattern of '*' for rows = 5\n",
    "# * * * * *   \n",
    "# * * * * \n",
    "# * * *\n",
    "# * *\n",
    "# *\n",
    "\n",
    "for row in range(1, rows + 1):\n",
    "    for col in range(rows - row + 1):\n",
    "        print('*', end = ' ')\n",
    "    print(end = '\\n')"
   ]
  },
  {
   "cell_type": "code",
   "execution_count": 21,
   "id": "92440642",
   "metadata": {},
   "outputs": [
    {
     "name": "stdout",
     "output_type": "stream",
     "text": [
      "        * \n",
      "      * * \n",
      "    * * * \n",
      "  * * * * \n",
      "* * * * * \n"
     ]
    }
   ],
   "source": [
    "# Q14. print the flipped right angle triangle pattern of '*' for rows = 5\n",
    "#         *\n",
    "#       * *\n",
    "#     * * *\n",
    "#   * * * * \n",
    "# * * * * *\n",
    "\n",
    "for row in range(1, rows + 1):\n",
    "    for space in range(rows - row):\n",
    "        print(' ', end = ' ')\n",
    "    for col in range(row):\n",
    "        print('*', end = ' ')\n",
    "    print(end = '\\n')"
   ]
  },
  {
   "cell_type": "code",
   "execution_count": 22,
   "id": "573b8fd0",
   "metadata": {},
   "outputs": [
    {
     "name": "stdout",
     "output_type": "stream",
     "text": [
      "        * \n",
      "      * * * \n",
      "    * * * * * \n",
      "  * * * * * * * \n",
      "* * * * * * * * * \n"
     ]
    }
   ],
   "source": [
    "# Q15. print the Pyramid Pattern for row = 5\n",
    "#         *\n",
    "#       * * *\n",
    "#     * * * * *\n",
    "#   * * * * * * *\n",
    "# * * * * * * * * *\n",
    "\n",
    "for row in range(1, rows + 1):\n",
    "    for space in range(rows - row):\n",
    "        print(' ', end = ' ')\n",
    "    for col in range(2 * row - 1):\n",
    "        print('*', end = ' ')\n",
    "    print(end = '\\n')"
   ]
  },
  {
   "cell_type": "code",
   "execution_count": 23,
   "id": "316fad5a",
   "metadata": {},
   "outputs": [
    {
     "name": "stdout",
     "output_type": "stream",
     "text": [
      "* * * * * * * * * \n",
      "  * * * * * * * \n",
      "    * * * * * \n",
      "      * * * \n",
      "        * \n"
     ]
    }
   ],
   "source": [
    "# Q16. print the inverted pyramid pattern for rows = 5\n",
    "\n",
    "# * * * * * * * * *\n",
    "#   * * * * * * *\n",
    "#     * * * * *\n",
    "#       * * *\n",
    "#         *\n",
    "\n",
    "for row in range(1, rows + 1):\n",
    "    for space in range(row - 1):\n",
    "        print(' ', end = ' ')\n",
    "    for col in range(2 * (rows - row) + 1):\n",
    "        print('*', end = ' ')\n",
    "    print(end = '\\n')"
   ]
  },
  {
   "cell_type": "code",
   "execution_count": 24,
   "id": "21b90353",
   "metadata": {},
   "outputs": [
    {
     "name": "stdout",
     "output_type": "stream",
     "text": [
      "        * \n",
      "      * * * \n",
      "    * * * * * \n",
      "  * * * * * * * \n",
      "* * * * * * * * * \n",
      "  * * * * * * * \n",
      "    * * * * * \n",
      "      * * * \n",
      "        * \n"
     ]
    }
   ],
   "source": [
    "# Q17. print the diomond patterns for rows = 5\n",
    "#     *\n",
    "#    ***\n",
    "#   *****\n",
    "#  *******\n",
    "# *********\n",
    "#  *******\n",
    "#   *****\n",
    "#    ***\n",
    "#     *\n",
    "\n",
    "for row in range(1,rows+1):\n",
    "    for space in range(rows-row):\n",
    "        print(' ', end = ' ')\n",
    "    for col in range(2*row-1):\n",
    "        print('*', end = ' ')\n",
    "    print(end ='\\n')\n",
    "    \n",
    "for row in range(1, rows):\n",
    "    for space in range(row):\n",
    "        print(' ' , end = ' ')\n",
    "    for col in range(2 * (rows - row) - 1):\n",
    "        print('*' , end = ' ')\n",
    "    print(end = '\\n')"
   ]
  },
  {
   "cell_type": "code",
   "execution_count": 25,
   "id": "c71762fa",
   "metadata": {},
   "outputs": [
    {
     "name": "stdout",
     "output_type": "stream",
     "text": [
      "1 \n",
      "1 2 \n",
      "1 2 3 \n",
      "1 2 3 4 \n",
      "1 2 3 4 5 \n"
     ]
    }
   ],
   "source": [
    "# Q18. print theNumber Triangle for rowS = 5\n",
    "# 1\n",
    "# 1 2\n",
    "# 1 2 3\n",
    "# 1 2 3 4\n",
    "# 1 2 3 4 5\n",
    "\n",
    "for row in range(1,rows+1):\n",
    "    for col in range(1, row+1):\n",
    "        print(col, end = ' ')\n",
    "    print(end ='\\n')"
   ]
  },
  {
   "cell_type": "code",
   "execution_count": 27,
   "id": "45beab17",
   "metadata": {},
   "outputs": [
    {
     "name": "stdout",
     "output_type": "stream",
     "text": [
      "1 2 3 4 5 \n",
      "1 2 3 4 \n",
      "1 2 3 \n",
      "1 2 \n",
      "1 \n"
     ]
    }
   ],
   "source": [
    "# Q19. print the Reverse Number Triangle for rows = 5\n",
    "# 1 2 3 4 5\n",
    "# 1 2 3 4 \n",
    "# 1 2 3\n",
    "# 1 2\n",
    "# 1\n",
    "\n",
    "rows = 5\n",
    "for row in range(rows, 0, -1): \n",
    "    for col in range(1, row + 1):\n",
    "        print(col, end=\" \")\n",
    "    print()"
   ]
  },
  {
   "cell_type": "code",
   "execution_count": 28,
   "id": "b70423cd",
   "metadata": {},
   "outputs": [
    {
     "name": "stdout",
     "output_type": "stream",
     "text": [
      "        1 \n",
      "      1 2 2 \n",
      "    1 2 3 3 2 \n",
      "  1 2 3 4 4 3 2 \n",
      "1 2 3 4 5 5 4 3 2 \n"
     ]
    }
   ],
   "source": [
    "# Q20. print the Number Pyramid for rows = 5\n",
    "#     1                                           \n",
    "#    121\n",
    "#   12321\n",
    "#  1234321\n",
    "# 123454321\n",
    "\n",
    "for row in range(1, rows + 1):\n",
    "    for space in range(rows-row):\n",
    "        print(' ', end = ' ')\n",
    "    for col1 in range(1, row + 1):\n",
    "        print(col1, end = ' ')\n",
    "    for col2 in range(row, 1, -1):\n",
    "        print(col2, end = ' ')\n",
    "    print(end = '\\n')"
   ]
  },
  {
   "cell_type": "code",
   "execution_count": 29,
   "id": "280c5196",
   "metadata": {},
   "outputs": [
    {
     "name": "stdout",
     "output_type": "stream",
     "text": [
      "A\n",
      "AB\n",
      "ABC\n",
      "ABCD\n",
      "ABCDE\n"
     ]
    }
   ],
   "source": [
    "# Q21. print the Alphabet Pattern for rows = 5\n",
    "# A\n",
    "# AB\n",
    "# ABC\n",
    "# ABCD\n",
    "# ABCDE\n",
    "\n",
    "for row in range(1,rows+1):\n",
    "    for col in range(1, row+1):\n",
    "        print(chr(64+col), end = '')\n",
    "    print(end ='\\n')"
   ]
  },
  {
   "cell_type": "code",
   "execution_count": 30,
   "id": "f61151a6",
   "metadata": {},
   "outputs": [
    {
     "name": "stdout",
     "output_type": "stream",
     "text": [
      "1 \n",
      "2 3 \n",
      "4 5 6 \n",
      "7 8 9 10 \n",
      "11 12 13 14 15 \n"
     ]
    }
   ],
   "source": [
    "# Q22. print the Floyd’s Triangle pattern for rows = 5\n",
    "# 1\n",
    "# 2 3\n",
    "# 4 5 6\n",
    "# 7 8 9 10\n",
    "# 11 12 13 14 15\n",
    "\n",
    "rows = 5\n",
    "num = 1\n",
    "for row in range(1,rows+1):\n",
    "    for col in range(1, row+1):\n",
    "        print(num, end = ' ')\n",
    "        num += 1\n",
    "    print(end ='\\n')"
   ]
  }
 ],
 "metadata": {
  "kernelspec": {
   "display_name": "Python 3 (ipykernel)",
   "language": "python",
   "name": "python3"
  },
  "language_info": {
   "codemirror_mode": {
    "name": "ipython",
    "version": 3
   },
   "file_extension": ".py",
   "mimetype": "text/x-python",
   "name": "python",
   "nbconvert_exporter": "python",
   "pygments_lexer": "ipython3",
   "version": "3.10.9"
  }
 },
 "nbformat": 4,
 "nbformat_minor": 5
}
