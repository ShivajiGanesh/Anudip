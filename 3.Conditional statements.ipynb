{
 "cells": [
  {
   "cell_type": "code",
   "execution_count": 1,
   "id": "54f0bf07-07a1-4552-89b0-ed3468898faa",
   "metadata": {},
   "outputs": [
    {
     "name": "stdin",
     "output_type": "stream",
     "text": [
      "Enter a year:  2024\n"
     ]
    },
    {
     "name": "stdout",
     "output_type": "stream",
     "text": [
      "2024 is a leap year.\n"
     ]
    }
   ],
   "source": [
    "#1Q. Python program to check leap year \n",
    "\n",
    "#..Taking input from user..#\n",
    "year = int(input(\"Enter a year: \"))\n",
    "\n",
    "#...Using if condition to check leap year...#\n",
    "if (year % 4 == 0 and year % 100 != 0) or (year % 400 == 0):\n",
    "    print(f\"{year} is a leap year.\")\n",
    "else:\n",
    "    print(f\"{year} is not a leap year.\")\n"
   ]
  },
  {
   "cell_type": "code",
   "execution_count": 3,
   "id": "0d680f2d-094b-483c-b6a5-ade809ef99a2",
   "metadata": {},
   "outputs": [
    {
     "name": "stdin",
     "output_type": "stream",
     "text": [
      "Enter the first number:  2\n",
      "Enter the second number:  5\n",
      "Enter the third number:  9\n"
     ]
    },
    {
     "name": "stdout",
     "output_type": "stream",
     "text": [
      "The largest number is 9.0\n"
     ]
    }
   ],
   "source": [
    "#2Q. Python Program to Find the Largest Among Three Numbers \n",
    "\n",
    "#..Taking input from user for three variables..#\n",
    "a = float(input(\"Enter the first number: \"))\n",
    "b = float(input(\"Enter the second number: \"))\n",
    "c = float(input(\"Enter the third number: \"))\n",
    "\n",
    "#..Using MAX function to get maximum value..#\n",
    "largest = max(a, b, c)\n",
    "print(f\"The largest number is {largest}\")\n",
    "\n"
   ]
  },
  {
   "cell_type": "code",
   "execution_count": 5,
   "id": "4bd01ac3-92ae-495e-92d3-ee27d145a5de",
   "metadata": {},
   "outputs": [
    {
     "name": "stdin",
     "output_type": "stream",
     "text": [
      "Enter a number:  -5\n"
     ]
    },
    {
     "name": "stdout",
     "output_type": "stream",
     "text": [
      "Negative number\n"
     ]
    }
   ],
   "source": [
    "#3Q. Python Program to Check if a Number is Positive, Negative or 0 \n",
    "\n",
    "#..Taking number from user..#\n",
    "num = float(input(\"Enter a number: \"))\n",
    "#..Using if statement to check the number is positive,negetive or zero..#\n",
    "if num > 0:\n",
    "    print(\"Positive number\")\n",
    "elif num < 0:\n",
    "    print(\"Negative number\")\n",
    "else:\n",
    "    print(\"Zero\")"
   ]
  },
  {
   "cell_type": "code",
   "execution_count": 9,
   "id": "ca94f0dd-396a-4994-9575-5e8290d97883",
   "metadata": {},
   "outputs": [
    {
     "name": "stdin",
     "output_type": "stream",
     "text": [
      "Enter the product code (1-Battery, 2-Key, 3-Electrical):  1\n",
      "Enter the order amount:  1350\n"
     ]
    },
    {
     "name": "stdout",
     "output_type": "stream",
     "text": [
      "Net amount to be paid: Rs. 1215.00\n"
     ]
    }
   ],
   "source": [
    "#4Q. A toy vendor supplies three types of toys: Battery Based Toys, Key-based Toys, and Electrical Charging Based Toys. \n",
    "#The vendor gives a discount of 10% on orders for battery-based toys if the order is for more than Rs. 1000.\n",
    "#On orders of more than Rs. 100 for key-based toys, a discount of 5% is given, and \n",
    "#a discount of 10% is given on orders for electrical charging based toys of value more than Rs. 500. \n",
    "#Assume that the numeric codes 1,2 and 3 are used for battery based toys, key-based toys, and\n",
    "#electrical charging based toys respectively. Write a program that reads the product code and \n",
    "#the order amount and prints out the net amount that the customer is required to pay after the discount. \n",
    "\n",
    "#..Giving user a coice to select specific product key & enter the amount..#\n",
    "product_code = int(input(\"Enter the product code (1-Battery, 2-Key, 3-Electrical): \"))\n",
    "order_amount = float(input(\"Enter the order amount: \"))\n",
    "\n",
    "#...Using if condition on specific product, with different discount based on store vendor...#\n",
    "if product_code == 1 and order_amount > 1000:\n",
    "    discount = order_amount * 0.10\n",
    "elif product_code == 2 and order_amount > 100:\n",
    "    discount = order_amount * 0.05\n",
    "elif product_code == 3 and order_amount > 500:\n",
    "    discount = order_amount * 0.10\n",
    "else:\n",
    "    discount = 0\n",
    "\n",
    "#..Condition for net amount after reducing discount..#\n",
    "net_amount = order_amount - discount\n",
    "\n",
    "print(f\"Net amount to be paid: Rs. {net_amount:.2f}\")"
   ]
  },
  {
   "cell_type": "code",
   "execution_count": 11,
   "id": "39657ee2-9856-4e11-940d-0e1e9f56a332",
   "metadata": {},
   "outputs": [
    {
     "name": "stdin",
     "output_type": "stream",
     "text": [
      "Enter the distance in kilometers:  44\n"
     ]
    },
    {
     "name": "stdout",
     "output_type": "stream",
     "text": [
      "Total fare for 44.0 kilometers is Rs. 352.0\n"
     ]
    }
   ],
   "source": [
    "#5Q. A transport company charges the fare according to following table: \n",
    "#Distance     Charges \n",
    "#1-50             8 Rs./Km \n",
    "#51-100         10 Rs./Km\n",
    "#> 100           12 Rs/Km\n",
    "\n",
    "#..taking input from user..#\n",
    "distance = float(input(\"Enter the distance in kilometers: \"))\n",
    "\n",
    "#...Using if condition to check fare...#\n",
    "if 1 <= distance <= 50:\n",
    "    fare = distance * 8\n",
    "elif 51 <= distance <= 100:\n",
    "    fare = (50 * 8) + (distance - 50) * 10\n",
    "else:\n",
    "    fare = (50 * 8) + (50 * 10) + (distance - 100) * 12\n",
    "\n",
    "print(f\"Total fare for {distance} kilometers is Rs. {fare}\")"
   ]
  }
 ],
 "metadata": {
  "kernelspec": {
   "display_name": "Python [conda env:base] *",
   "language": "python",
   "name": "conda-base-py"
  },
  "language_info": {
   "codemirror_mode": {
    "name": "ipython",
    "version": 3
   },
   "file_extension": ".py",
   "mimetype": "text/x-python",
   "name": "python",
   "nbconvert_exporter": "python",
   "pygments_lexer": "ipython3",
   "version": "3.10.16"
  }
 },
 "nbformat": 4,
 "nbformat_minor": 5
}
