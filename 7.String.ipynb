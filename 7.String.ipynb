{
 "cells": [
  {
   "cell_type": "code",
   "execution_count": 9,
   "id": "91060dae",
   "metadata": {},
   "outputs": [
    {
     "name": "stdout",
     "output_type": "stream",
     "text": [
      "to : 2\n",
      "change : 2\n",
      "the : 3\n",
      "overall : 1\n",
      "look : 2\n",
      "of : 1\n",
      "your : 1\n",
      "document. : 1\n",
      "available : 1\n",
      "in : 1\n",
      "gallery : 1\n"
     ]
    }
   ],
   "source": [
    "#1. Write a Python program to count the occurrences of each word in a given sentence \n",
    "#string = “To change the overall look of your document. To change the look available in the gallery” \n",
    "\n",
    "string = \"To change the overall look of your document. To change the look available in the gallery\"\n",
    "\n",
    "words = string.lower().split()\n",
    "\n",
    "word_count = {}\n",
    "\n",
    "# Loop through each word\n",
    "for word in words:\n",
    "    # If the word is already in the dictionary, add 1 to its count\n",
    "    if word in word_count:\n",
    "        word_count[word] += 1\n",
    "    else:\n",
    "        # If the word is not in the dictionary, add it with count 1\n",
    "        word_count[word] = 1\n",
    "\n",
    "# Print the word count\n",
    "for word in word_count:\n",
    "    print(word, \":\", word_count[word])"
   ]
  },
  {
   "cell_type": "code",
   "execution_count": 11,
   "id": "0ef9bebe",
   "metadata": {},
   "outputs": [
    {
     "name": "stdout",
     "output_type": "stream",
     "text": [
      "Best  Deeptech  Python  Training\n"
     ]
    }
   ],
   "source": [
    "#2. Write a Python program to remove a newline in Python \n",
    "#String = \"\\nBest \\nDeeptech \\nPython \\nTraining\\n\" \n",
    "\n",
    "#..Define the string with newline characters..#\n",
    "string = \"\\nBest \\nDeeptech \\nPython \\nTraining\\n\"\n",
    "\n",
    "#..Replace newline characters with space..#\n",
    "cleaned_string = string.replace(\"\\n\", \" \")\n",
    "\n",
    "#..Remove leading and trailing spaces and print the result..#\n",
    "print(cleaned_string.strip())"
   ]
  },
  {
   "cell_type": "code",
   "execution_count": 10,
   "id": "2c9dd52f",
   "metadata": {},
   "outputs": [
    {
     "name": "stdout",
     "output_type": "stream",
     "text": [
      "hcetpeeD nohtyP gniniarT\n"
     ]
    }
   ],
   "source": [
    "#3. Write a Python program to reverse words in a string \n",
    "#String = “Deeptech Python Training”\n",
    "\n",
    "#..Function to reverse each word in a string..#\n",
    "def rev_word(word):\n",
    "    return word[::-1]\n",
    "\n",
    "#..Define the input string..#\n",
    "string = \"Deeptech Python Training\"\n",
    "\n",
    "#..Reverse each word and join them back into a string..#\n",
    "print(\" \".join(rev_word(word) for word in string.split()))\n"
   ]
  },
  {
   "cell_type": "code",
   "execution_count": 12,
   "id": "b0300582",
   "metadata": {},
   "outputs": [
    {
     "name": "stdout",
     "output_type": "stream",
     "text": [
      "{'e': 3, 'o': 3, 'a': 1, 'i': 1}\n"
     ]
    }
   ],
   "source": [
    "#4. Write a Python program to count and display the vowels of a given text \n",
    "#String=”Welcome to python Training”\n",
    "\n",
    "#..Define the input string..#\n",
    "string = \"Welcome to Python Assignment\"\n",
    "\n",
    "#..Define the vowels to check..#\n",
    "vowels = 'aeiou'\n",
    "\n",
    "#..Dictionary to store vowel counts..#\n",
    "vowel_cnt = {}\n",
    "\n",
    "#..Loop through each character in the string..#\n",
    "for char in string:\n",
    "    if char.lower() in vowel_cnt:\n",
    "        vowel_cnt[char.lower()] += 1\n",
    "    elif char.lower() in vowels:\n",
    "        vowel_cnt[char.lower()] = 1\n",
    "\n",
    "#..Print the vowel count dictionary..#\n",
    "print(vowel_cnt)\n"
   ]
  }
 ],
 "metadata": {
  "kernelspec": {
   "display_name": "Python [conda env:base] *",
   "language": "python",
   "name": "conda-base-py"
  },
  "language_info": {
   "codemirror_mode": {
    "name": "ipython",
    "version": 3
   },
   "file_extension": ".py",
   "mimetype": "text/x-python",
   "name": "python",
   "nbconvert_exporter": "python",
   "pygments_lexer": "ipython3",
   "version": "3.10.16"
  }
 },
 "nbformat": 4,
 "nbformat_minor": 5
}
